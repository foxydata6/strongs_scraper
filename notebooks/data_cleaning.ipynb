{
 "cells": [
  {
   "cell_type": "code",
   "execution_count": 4,
   "id": "52804b33",
   "metadata": {},
   "outputs": [],
   "source": [
    "import pandas as pd\n",
    "import os"
   ]
  },
  {
   "cell_type": "code",
   "execution_count": 18,
   "id": "784801d9",
   "metadata": {},
   "outputs": [],
   "source": [
    "in_dir = '../scraped_docs'"
   ]
  },
  {
   "cell_type": "code",
   "execution_count": 19,
   "id": "e8a6256a",
   "metadata": {},
   "outputs": [],
   "source": [
    "dfs = []\n",
    "for directory in os.listdir(in_dir):\n",
    "    directory_path = in_dir+'/'+directory\n",
    "    if 'DS' not in directory_path:\n",
    "        for file in os.listdir(directory_path):\n",
    "            if 'DS' not in file:\n",
    "                df = pd.read_csv(directory_path+'/'+file)\n",
    "                print(df)\n",
    "                dfs.append(df)"
   ]
  },
  {
   "cell_type": "code",
   "execution_count": 75,
   "id": "4701473f",
   "metadata": {},
   "outputs": [],
   "source": [
    "genesis = pd.concat(dfs).reset_index(drop=True)"
   ]
  },
  {
   "cell_type": "code",
   "execution_count": 76,
   "id": "7811a142",
   "metadata": {},
   "outputs": [],
   "source": [
    "genesis['verse_part_type'] = genesis.apply(lambda x: x['verse_part'] if pd.isnull(x['verse_part']) else x['verse_part_type'],axis=1)"
   ]
  },
  {
   "cell_type": "code",
   "execution_count": 77,
   "id": "fee19643",
   "metadata": {},
   "outputs": [],
   "source": [
    "genesis['verse_part'].fillna(method='ffill',inplace=True)\n",
    "genesis['verse_part_type'].fillna(method='ffill',inplace=True)"
   ]
  },
  {
   "cell_type": "code",
   "execution_count": 89,
   "id": "e0a12c73",
   "metadata": {},
   "outputs": [],
   "source": [
    "hebrew_word_counts = genesis[['bible_version','hebrew_id']].value_counts()"
   ]
  },
  {
   "cell_type": "code",
   "execution_count": 92,
   "id": "bf974362",
   "metadata": {},
   "outputs": [],
   "source": [
    "hebrew_word_counts.to_csv('hebrew_word_counts.csv')"
   ]
  },
  {
   "cell_type": "code",
   "execution_count": null,
   "id": "4e6f99b2",
   "metadata": {},
   "outputs": [],
   "source": []
  }
 ],
 "metadata": {
  "kernelspec": {
   "display_name": "Python 3",
   "language": "python",
   "name": "python3"
  },
  "language_info": {
   "codemirror_mode": {
    "name": "ipython",
    "version": 3
   },
   "file_extension": ".py",
   "mimetype": "text/x-python",
   "name": "python",
   "nbconvert_exporter": "python",
   "pygments_lexer": "ipython3",
   "version": "3.8.8"
  }
 },
 "nbformat": 4,
 "nbformat_minor": 5
}
